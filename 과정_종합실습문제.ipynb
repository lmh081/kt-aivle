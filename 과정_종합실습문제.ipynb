{
 "cells": [
  {
   "cell_type": "markdown",
   "id": "8879214b",
   "metadata": {
    "id": "710ee378"
   },
   "source": [
    "# 종합실습"
   ]
  },
  {
   "cell_type": "markdown",
   "id": "11fcda74",
   "metadata": {
    "id": "e30eb3da"
   },
   "source": [
    "## 과제1. 회원 관리 프로그램"
   ]
  },
  {
   "cell_type": "markdown",
   "id": "e7ae33f2",
   "metadata": {
    "id": "8e48b532"
   },
   "source": [
    "* 회원 이름과 이메일 주소를 입력받아 엑셀에 저장하는 프로그램을 만드시오.\n",
    "* 'members.xlsx’ 파일에는 이미 두명의 회원이 등록되어 있습니다. \n",
    "\n",
    "* 기본 기능  \n",
    "> * 이름, 이메일, 전화번호를 입력 받아 (한꺼번에 입력받아, 리스트로 만들어 처리. .split 활용)\n",
    "> * 엑셀 틀에 맞게 제일 마지막 행에 저장\n",
    "> * 단, 이메일 주소는 실제 메일 수신 가능해야 합니다.\n",
    "\n",
    "* 심화 기능\n",
    "> * 입력값 확인. 값이 3개,  쉼표로 구분된 값인지 확인.\n",
    "> * 회원 가입을 계속할지, 종료할지를 묻기"
   ]
  },
  {
   "cell_type": "code",
   "execution_count": 16,
   "id": "94867720",
   "metadata": {
    "id": "5bcbadaf",
    "scrolled": true
   },
   "outputs": [
    {
     "name": "stdout",
     "output_type": "stream",
     "text": [
      "회원가입을 원하면 1, 아니면 2를 입력하시오\n",
      "1\n",
      "이름, 이메일, 전화번호를 쉼표로 구분하여 적어주시오\n",
      "임명환,lmh081@naver.com,전화번호\n"
     ]
    }
   ],
   "source": [
    "import openpyxl as xl\n",
    "\n",
    "for i in range(1,4):\n",
    "    \n",
    "\n",
    "    print('회원가입을 원하면 1, 아니면 2를 입력하시오')\n",
    "    a=input()\n",
    "    if a=='2':\n",
    "        print('회원가입을 종료합니다')\n",
    "        break\n",
    "    \n",
    "    else :\n",
    "        print('이름, 이메일, 전화번호를 쉼표로 구분하여 적어주시오')\n",
    "        inform=input()\n",
    "        l1=inform.split(',')\n",
    "        if len(l1) !=3:\n",
    "            print('형식에 맞게 재입력하시오')\n",
    "        else:\n",
    "            wb=xl.load_workbook('members.xlsx')\n",
    "            s1=wb['Sheet1']\n",
    "            \n",
    "            insert_row = s1.max_row+1\n",
    "            \n",
    "            s1.cell(insert_row,1).value=l1[0].strip()\n",
    "            s1.cell(insert_row,2).value=l1[1].strip()\n",
    "            s1.cell(insert_row,3).value=l1[2].strip()\n",
    "        \n",
    "            \n",
    "            wb.save('members.xlsx')\n",
    "            break\n",
    "            \n",
    "        \n",
    "        \n",
    "\n"
   ]
  },
  {
   "cell_type": "markdown",
   "id": "539f59dd",
   "metadata": {
    "id": "8f3a1740"
   },
   "source": [
    "## 과제2. 회원들에게 이메일 발송"
   ]
  },
  {
   "cell_type": "markdown",
   "id": "cbd6b15a",
   "metadata": {
    "id": "7840678c"
   },
   "source": [
    "* 과제1에서 저장된 회원정보(members.xlsx)를 읽어서 회원 각각에게 이메일을 보내 봅시다.\n",
    "\n",
    "> * 제목 : “2021년 송년 인사”\n",
    "> * 내용 :  \n",
    ">     OOO 회원님 안녕하세요?  \n",
    "벌써 2021년도 저물어 가고 있습니다.  \n",
    "올 한해 정말 수고 많았습니다.   \n",
    "첨부한 커피 쿠폰으로 조금이나마 따뜻한 연말을 보내시기 바랍니다.  \n",
    "감사합니다. \n",
    "\n",
    "> * 회원마다 보내지는 이메일에서 각자 달라지는 것은,\t수신 이메일 주소, 메일 내용에서의 회원 이름 입니다."
   ]
  },
  {
   "cell_type": "code",
   "execution_count": 20,
   "id": "0f926627",
   "metadata": {
    "id": "5c5a29a9"
   },
   "outputs": [
    {
     "data": {
      "text/plain": [
       "(221, b'2.0.0 closing connection ot6sm8420893pjb.32 - gsmtp')"
      ]
     },
     "execution_count": 20,
     "metadata": {},
     "output_type": "execute_result"
    }
   ],
   "source": [
    "import smtplib\n",
    "from email.mime.text import MIMEText\n",
    "\n",
    "s = smtplib.SMTP('smtp.gmail.com', 587)\n",
    "s.starttls()                    \n",
    "\n",
    "my_email='lmhj082@gmail.com'\n",
    "app_pw='eojkbgqbbbtabfqo'\n",
    "s.login(my_email, app_pw)  \n",
    "\n",
    "msg = MIMEText('''한기영 강사님 안녕하세요?\n",
    "벌써 2021년도 저물어 가고 있습니다.\n",
    "올 한해 정말 수고 많았습니다.\n",
    "첨부한 커피 쿠폰으로 조금이나마 따뜻한 연말을 보내시기 바랍니다.\n",
    "감사합니다.\n",
    "\n",
    "\n",
    "-dx 수도권2반 임명환- ''')\n",
    "\n",
    "msg['Subject'] = '제목 : \"2021년 송년 인사\"'\n",
    "\n",
    "s.sendmail(my_email, \"hanky74@datainsight.biz\", msg.as_string())\n",
    "s.quit()   \n"
   ]
  }
 ],
 "metadata": {
  "colab": {
   "collapsed_sections": [],
   "name": "과정_종합실습문제.ipynb",
   "provenance": []
  },
  "kernelspec": {
   "display_name": "Python 3 (ipykernel)",
   "language": "python",
   "name": "python3"
  },
  "language_info": {
   "codemirror_mode": {
    "name": "ipython",
    "version": 3
   },
   "file_extension": ".py",
   "mimetype": "text/x-python",
   "name": "python",
   "nbconvert_exporter": "python",
   "pygments_lexer": "ipython3",
   "version": "3.9.7"
  }
 },
 "nbformat": 4,
 "nbformat_minor": 5
}
